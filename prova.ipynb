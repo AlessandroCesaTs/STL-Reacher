{
 "cells": [
  {
   "cell_type": "code",
   "execution_count": 1,
   "metadata": {},
   "outputs": [
    {
     "name": "stderr",
     "output_type": "stream",
     "text": [
      "/u/dssc/acesa000/STL-Reacher/env/lib/python3.12/site-packages/gym_ergojr/sim/abstract_robot.py:274: SyntaxWarning: \"is not\" with 'str' literal. Did you mean \"!=\"?\n",
      "  if text is not None and text is not \"\":\n",
      "pybullet build time: Aug 25 2024 13:33:54\n"
     ]
    }
   ],
   "source": [
    "from gym_ergojr.sim.single_robot import SingleRobot\n",
    "from gym_ergojr.utils.math import RandomPointInHalfSphere\n"
   ]
  },
  {
   "cell_type": "code",
   "execution_count": 3,
   "metadata": {},
   "outputs": [],
   "source": [
    "robot = SingleRobot()"
   ]
  },
  {
   "cell_type": "code",
   "execution_count": 6,
   "metadata": {},
   "outputs": [],
   "source": [
    "import pybullet as p"
   ]
  },
  {
   "cell_type": "code",
   "execution_count": 4,
   "metadata": {},
   "outputs": [
    {
     "data": {
      "text/plain": [
       "14"
      ]
     },
     "execution_count": 4,
     "metadata": {},
     "output_type": "execute_result"
    }
   ],
   "source": [
    "p.getNumJoints(robot.id)"
   ]
  },
  {
   "cell_type": "code",
   "execution_count": 118,
   "metadata": {},
   "outputs": [
    {
     "name": "stdout",
     "output_type": "stream",
     "text": [
      "[(0.0, -1.0), (0.0, -1.0), (0.0, -1.0), (-1.570796326795, 1.570796326795), (-1.570796326795, 1.570796326795), (0.0, -1.0), (-1.570796326795, 1.570796326795), (0.0, -1.0), (-1.570796326795, 1.570796326795), (0.0, -1.0), (-1.570796326795, 1.570796326795), (0.0, -1.0), (0.0, -1.0), (0.0, -1.0)]\n"
     ]
    }
   ],
   "source": [
    "joint_limits = []\n",
    "for joint_index in range(p.getNumJoints(robot.id)):\n",
    "    joint_info = p.getJointInfo(robot.id, joint_index)\n",
    "    joint_limits.append((joint_info[8], joint_info[9]))  # joint lower and upper limits\n",
    "\n",
    "print(joint_limits)"
   ]
  },
  {
   "cell_type": "code",
   "execution_count": 13,
   "metadata": {},
   "outputs": [
    {
     "data": {
      "text/plain": [
       "(0.1, 0.0, (0.0, 0.0, 0.0, 0.0, 0.0, 0.0), 0.0)"
      ]
     },
     "execution_count": 13,
     "metadata": {},
     "output_type": "execute_result"
    }
   ],
   "source": [
    "p.getJointState(1,3)"
   ]
  },
  {
   "cell_type": "code",
   "execution_count": 12,
   "metadata": {},
   "outputs": [],
   "source": [
    "p.resetJointState(1,3,0.1,0)"
   ]
  },
  {
   "cell_type": "code",
   "execution_count": 5,
   "metadata": {},
   "outputs": [
    {
     "name": "stdout",
     "output_type": "stream",
     "text": [
      "XX\n",
      "1\n"
     ]
    },
    {
     "data": {
      "text/plain": [
       "array([ 0., -0., -0.,  0., -0., -0.,  0.,  0.,  0.,  0.,  0.,  0.])"
      ]
     },
     "execution_count": 5,
     "metadata": {},
     "output_type": "execute_result"
    }
   ],
   "source": [
    "robot.observe()"
   ]
  },
  {
   "cell_type": "code",
   "execution_count": 3,
   "metadata": {},
   "outputs": [],
   "source": [
    "import numpy as np"
   ]
  },
  {
   "cell_type": "code",
   "execution_count": 108,
   "metadata": {},
   "outputs": [],
   "source": [
    "pose=np.zeros(12)\n",
    "pose=pose+0.5\n",
    "robot.set(pose)"
   ]
  },
  {
   "cell_type": "code",
   "execution_count": 109,
   "metadata": {},
   "outputs": [
    {
     "data": {
      "text/plain": [
       "((-0.07130077554195743, 0.012010407640085659, 0.028742640687119306),\n",
       " (0.8446231986207332,\n",
       "  0.19134171618254492,\n",
       "  -0.4619397662556435,\n",
       "  -0.1913417161825449),\n",
       " (0.0, 0.0, 0.0),\n",
       " (0.0, 0.0, 0.0, 1.0),\n",
       " (-0.07130077481269836, 0.012010407634079456, 0.02874264121055603),\n",
       " (0.8446232080459595,\n",
       "  0.19134169816970825,\n",
       "  -0.4619397222995758,\n",
       "  -0.19134169816970825))"
      ]
     },
     "execution_count": 109,
     "metadata": {},
     "output_type": "execute_result"
    }
   ],
   "source": [
    "p.getLinkState(robot.id,13)"
   ]
  },
  {
   "cell_type": "code",
   "execution_count": 96,
   "metadata": {},
   "outputs": [
    {
     "data": {
      "text/plain": [
       "(-0.2674725121116499,\n",
       " -0.0406250757067104,\n",
       " -0.010969117285174914,\n",
       " -0.2645905364607225,\n",
       " 0.0075222412418463605)"
      ]
     },
     "execution_count": 96,
     "metadata": {},
     "output_type": "execute_result"
    }
   ],
   "source": [
    "p.calculateInverseKinematics(bodyIndex=1, \n",
    "                                endEffectorLinkIndex=13, \n",
    "                                targetPosition=[0.1, 0.1545, 0.15600000000000003])"
   ]
  },
  {
   "cell_type": "code",
   "execution_count": 97,
   "metadata": {},
   "outputs": [],
   "source": [
    "robot.set([0,-0.2674725121116499,\n",
    " -0.0406250757067104,\n",
    " -0.010969117285174914,\n",
    " -0.2645905364607225,\n",
    " 0.0075222412418463605,0,0,0,0,0,0])"
   ]
  },
  {
   "cell_type": "code",
   "execution_count": 111,
   "metadata": {},
   "outputs": [
    {
     "data": {
      "text/plain": [
       "(0.0, 0.0, (0.0, 0.0, 0.0, 0.0, 0.0, 0.0), 0.0)"
      ]
     },
     "execution_count": 111,
     "metadata": {},
     "output_type": "execute_result"
    }
   ],
   "source": [
    "p.getJointState(robot.id,2)"
   ]
  },
  {
   "cell_type": "code",
   "execution_count": 98,
   "metadata": {},
   "outputs": [
    {
     "data": {
      "text/plain": [
       "((0.0019146309214667118, 0.08085352131896462, 0.2227229662416121),\n",
       " (0.4347586760941437,\n",
       "  0.00029432096792954466,\n",
       "  -0.008609988984846013,\n",
       "  0.9005057884465353),\n",
       " (0.0, 0.0, 0.0),\n",
       " (0.0, 0.0, 0.0, 1.0),\n",
       " (0.001914630876854062, 0.08085352182388306, 0.22272296249866486),\n",
       " (0.4347586929798126,\n",
       "  0.00029432083829306066,\n",
       "  -0.008609989657998085,\n",
       "  0.900505781173706))"
      ]
     },
     "execution_count": 98,
     "metadata": {},
     "output_type": "execute_result"
    }
   ],
   "source": [
    "p.getLinkState(robot.id,13)"
   ]
  },
  {
   "cell_type": "code",
   "execution_count": 56,
   "metadata": {},
   "outputs": [
    {
     "ename": "TypeError",
     "evalue": "function missing required argument 'bodyUniqueId' (pos 1)",
     "output_type": "error",
     "traceback": [
      "\u001b[0;31m---------------------------------------------------------------------------\u001b[0m",
      "\u001b[0;31mTypeError\u001b[0m                                 Traceback (most recent call last)",
      "Cell \u001b[0;32mIn[56], line 1\u001b[0m\n\u001b[0;32m----> 1\u001b[0m \u001b[43mp\u001b[49m\u001b[38;5;241;43m.\u001b[39;49m\u001b[43mgetBodyInfo\u001b[49m\u001b[43m(\u001b[49m\u001b[43m)\u001b[49m\n",
      "\u001b[0;31mTypeError\u001b[0m: function missing required argument 'bodyUniqueId' (pos 1)"
     ]
    }
   ],
   "source": [
    "p.getBodyInfo()"
   ]
  }
 ],
 "metadata": {
  "kernelspec": {
   "display_name": "env",
   "language": "python",
   "name": "python3"
  },
  "language_info": {
   "codemirror_mode": {
    "name": "ipython",
    "version": 3
   },
   "file_extension": ".py",
   "mimetype": "text/x-python",
   "name": "python",
   "nbconvert_exporter": "python",
   "pygments_lexer": "ipython3",
   "version": "3.12.4"
  }
 },
 "nbformat": 4,
 "nbformat_minor": 2
}
