{
 "cells": [
  {
   "cell_type": "code",
   "execution_count": 1,
   "metadata": {},
   "outputs": [
    {
     "name": "stderr",
     "output_type": "stream",
     "text": [
      "pybullet build time: Sep 30 2024 18:30:01\n"
     ]
    }
   ],
   "source": [
    "from src.classes.stl_evaluator import STLEvaluator\n",
    "from src.classes.my_reacher_env import MyReacherEnv\n",
    "import numpy as np\n",
    "import matplotlib.pyplot as plt\n",
    "import pickle"
   ]
  },
  {
   "cell_type": "code",
   "execution_count": 2,
   "metadata": {},
   "outputs": [],
   "source": [
    "with open('/home/alessandro/Universita/tesi/STL-Reacher/outputs/fixed/setting.pkl', 'rb') as f:\n",
    "    setting = pickle.load(f)"
   ]
  },
  {
   "cell_type": "code",
   "execution_count": 3,
   "metadata": {},
   "outputs": [
    {
     "name": "stdout",
     "output_type": "stream",
     "text": [
      "{'starting_point': array([-0.08618002,  0.09955512,  0.01002672]), 'initial_pose': array([ 0.51468009, -0.57833878, -0.70729013,  0.37656303, -0.0190075 ,\n",
      "        0.        ,  0.        ,  0.        ,  0.        ,  0.        ]), 'goal': array([0.15243735, 0.0200887 , 0.05545801]), 'avoid': array([0.05598634, 0.05220965, 0.03709432])}\n"
     ]
    }
   ],
   "source": [
    "print(setting)"
   ]
  },
  {
   "cell_type": "code",
   "execution_count": 4,
   "metadata": {},
   "outputs": [],
   "source": [
    "env=MyReacherEnv(change_target=False)"
   ]
  },
  {
   "cell_type": "code",
   "execution_count": 5,
   "metadata": {},
   "outputs": [],
   "source": [
    "env.set_start_goal_avoid_from_file('/home/alessandro/Universita/tesi/STL-Reacher/outputs/fixed/setting.pkl')"
   ]
  },
  {
   "cell_type": "code",
   "execution_count": 6,
   "metadata": {},
   "outputs": [
    {
     "name": "stdout",
     "output_type": "stream",
     "text": [
      "starting_point: [-0.08618002  0.09955512  0.01002672], initial_pose:[ 0.51468009 -0.57833878 -0.70729013  0.37656303 -0.0190075   0.\n",
      "  0.          0.          0.          0.        ], goal:[0.15243735 0.0200887  0.05545801],avoid:[0.05598634 0.05220965 0.03709432]\n"
     ]
    }
   ],
   "source": [
    "print(f\"starting_point: {env.starting_point}, initial_pose:{env.initial_pose}, goal:{env.goal},avoid:{env.avoid}\")"
   ]
  }
 ],
 "metadata": {
  "kernelspec": {
   "display_name": "env",
   "language": "python",
   "name": "python3"
  },
  "language_info": {
   "codemirror_mode": {
    "name": "ipython",
    "version": 3
   },
   "file_extension": ".py",
   "mimetype": "text/x-python",
   "name": "python",
   "nbconvert_exporter": "python",
   "pygments_lexer": "ipython3",
   "version": "3.12.4"
  }
 },
 "nbformat": 4,
 "nbformat_minor": 2
}
