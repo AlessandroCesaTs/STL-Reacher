{
 "cells": [
  {
   "cell_type": "code",
   "execution_count": 1,
   "metadata": {},
   "outputs": [
    {
     "name": "stderr",
     "output_type": "stream",
     "text": [
      "pybullet build time: Sep 30 2024 18:30:01\n"
     ]
    }
   ],
   "source": [
    "from gym_ergojr.sim.single_robot import SingleRobot\n",
    "from gym_ergojr.utils.math import RandomPointInHalfSphere\n",
    "import pybullet as p\n",
    "import numpy as np\n"
   ]
  },
  {
   "cell_type": "code",
   "execution_count": 54,
   "metadata": {},
   "outputs": [],
   "source": [
    "robot = SingleRobot()"
   ]
  },
  {
   "cell_type": "code",
   "execution_count": 3,
   "metadata": {},
   "outputs": [
    {
     "data": {
      "text/plain": [
       "14"
      ]
     },
     "execution_count": 3,
     "metadata": {},
     "output_type": "execute_result"
    }
   ],
   "source": [
    "p.getNumJoints(robot.id)"
   ]
  },
  {
   "cell_type": "code",
   "execution_count": 4,
   "metadata": {},
   "outputs": [
    {
     "name": "stdout",
     "output_type": "stream",
     "text": [
      "[(0.0, -1.0), (0.0, -1.0), (0.0, -1.0), (-1.570796326795, 1.570796326795), (-1.570796326795, 1.570796326795), (0.0, -1.0), (-1.570796326795, 1.570796326795), (0.0, -1.0), (-1.570796326795, 1.570796326795), (0.0, -1.0), (-1.570796326795, 1.570796326795), (0.0, -1.0), (0.0, -1.0), (0.0, -1.0)]\n"
     ]
    }
   ],
   "source": [
    "joint_limits = []\n",
    "for joint_index in range(p.getNumJoints(robot.id)):\n",
    "    joint_info = p.getJointInfo(robot.id, joint_index)\n",
    "    joint_limits.append((joint_info[8], joint_info[9]))  # joint lower and upper limits\n",
    "\n",
    "print(joint_limits)"
   ]
  },
  {
   "cell_type": "code",
   "execution_count": 56,
   "metadata": {},
   "outputs": [
    {
     "data": {
      "text/plain": [
       "(0.0, 0.0, (0.0, 0.0, 0.0, 0.0, 0.0, 0.0), 0.0)"
      ]
     },
     "execution_count": 56,
     "metadata": {},
     "output_type": "execute_result"
    }
   ],
   "source": [
    "p.getJointState(1,13)"
   ]
  },
  {
   "cell_type": "code",
   "execution_count": 57,
   "metadata": {},
   "outputs": [
    {
     "data": {
      "text/plain": [
       "((0.0, 0.0375, 0.035),\n",
       " (0.0, 0.0, 0.0, 1.0),\n",
       " (0.0, 0.0, 0.0),\n",
       " (0.0, 0.0, 0.0, 1.0),\n",
       " (0.0, 0.03750000149011612, 0.03500000014901161),\n",
       " (0.0, 0.0, 0.0, 1.0))"
      ]
     },
     "execution_count": 57,
     "metadata": {},
     "output_type": "execute_result"
    }
   ],
   "source": [
    "p.getLinkState(robot.id,3)"
   ]
  },
  {
   "cell_type": "code",
   "execution_count": 3,
   "metadata": {},
   "outputs": [],
   "source": [
    "robot.set([ 0,0,0,0,0,0,0,0,0,0,0])"
   ]
  },
  {
   "cell_type": "code",
   "execution_count": 8,
   "metadata": {},
   "outputs": [
    {
     "data": {
      "text/plain": [
       "(0.0, 0.0, (0.0, 0.0, 0.0, 0.0, 0.0, 0.0), 0.0)"
      ]
     },
     "execution_count": 8,
     "metadata": {},
     "output_type": "execute_result"
    }
   ],
   "source": [
    "p.getJointState(1,3)"
   ]
  },
  {
   "cell_type": "code",
   "execution_count": 4,
   "metadata": {},
   "outputs": [
    {
     "data": {
      "text/plain": [
       "((0.0, 0.1545, 0.15600000000000003),\n",
       " (0.0, 0.0, 0.0, 1.0),\n",
       " (0.0, 0.0, 0.0),\n",
       " (0.0, 0.0, 0.0, 1.0),\n",
       " (0.0, 0.15449999272823334, 0.15600000321865082),\n",
       " (0.0, 0.0, 0.0, 1.0))"
      ]
     },
     "execution_count": 4,
     "metadata": {},
     "output_type": "execute_result"
    }
   ],
   "source": [
    "p.getLinkState(robot.id,13)"
   ]
  },
  {
   "cell_type": "code",
   "execution_count": 65,
   "metadata": {},
   "outputs": [],
   "source": [
    "rhis=RandomPointInHalfSphere(0.0,0.0369,0.0437,radius=0.2022,height=0.2610,min_dist=0.1)\n"
   ]
  },
  {
   "cell_type": "code",
   "execution_count": 50,
   "metadata": {},
   "outputs": [
    {
     "name": "stdout",
     "output_type": "stream",
     "text": [
      "0.11952845459377547\n",
      "0.0001871052822445007\n",
      "5.3182924071890066e-05\n"
     ]
    }
   ],
   "source": [
    "target=rhis.samplePoint()\n",
    "for i in range(1000):\n",
    "    x=p.calculateInverseKinematics(bodyIndex=1, \n",
    "                                endEffectorLinkIndex=13, \n",
    "                                targetPosition=target)\n",
    "    robot.set(np.concatenate([np.array(x),np.zeros(5)]))\n",
    "    if i ==0 or i==100 or i ==500 or i ==1000 or i==9999:\n",
    "        position=np.array(p.getLinkState(robot.id,13)[0])\n",
    "        print(np.linalg.norm(position-target))"
   ]
  },
  {
   "cell_type": "code",
   "execution_count": 73,
   "metadata": {},
   "outputs": [],
   "source": [
    "import matplotlib.pyplot as plt"
   ]
  },
  {
   "cell_type": "code",
   "execution_count": 80,
   "metadata": {},
   "outputs": [
    {
     "name": "stdout",
     "output_type": "stream",
     "text": [
      "Liberary setting\n",
      " points was reachable 775 times; mean iterations 168.45806451612904\n",
      " points was not reachable 225 times\n"
     ]
    },
    {
     "data": {
      "image/png": "[encoded data removed]",
      "text/plain": [
       "<Figure size 640x480 with 1 Axes>"
      ]
     },
     "metadata": {},
     "output_type": "display_data"
    },
    {
     "name": "stdout",
     "output_type": "stream",
     "text": [
      "New setting\n",
      " points was reachable 899 times; mean iterations 136.7575083426029\n",
      " points was not reachable 101 times\n"
     ]
    },
    {
     "data": {
      "image/png": "[encoded data removed]",
      "text/plain": [
       "<Figure size 640x480 with 1 Axes>"
      ]
     },
     "metadata": {},
     "output_type": "display_data"
    }
   ],
   "source": [
    "reachable_points=0\n",
    "not_reachable_points=0\n",
    "reachable_iters=[]\n",
    "rhis=RandomPointInHalfSphere(0.0,0.0369,0.0437,radius=0.2022,height=0.2610,min_dist=0.1)\n",
    "\n",
    "\n",
    "def get_reachable_point():\n",
    "    max_iters=1000\n",
    "    point=rhis.samplePoint()\n",
    "    distance=np.inf\n",
    "    iter=0\n",
    "    while distance>1e-3 and iter<max_iters:\n",
    "        x=p.calculateInverseKinematics(bodyIndex=1, \n",
    "                                endEffectorLinkIndex=13, \n",
    "                                targetPosition=point)\n",
    "        robot.set(np.concatenate([np.array(x),np.zeros(5)]))\n",
    "        position=np.array(p.getLinkState(robot.id,13)[0])\n",
    "        distance=np.linalg.norm(position-point)\n",
    "        iter+=1\n",
    "    if iter==max_iters:\n",
    "        return False,iter\n",
    "    else:\n",
    "        return True,iter\n",
    "\n",
    "for _ in range(1000):\n",
    "    reachable,iter=get_reachable_point()\n",
    "    if reachable:\n",
    "        reachable_points+=1\n",
    "        reachable_iters.append(iter)\n",
    "    else:\n",
    "        not_reachable_points+=1\n",
    "print(\"Liberary setting\")\n",
    "print(f\" points was reachable {reachable_points} times; mean iterations {np.mean(reachable_iters).item()}\")\n",
    "print(f\" points was not reachable {not_reachable_points} times\")\n",
    "plt.hist(reachable_iters)\n",
    "plt.show()\n",
    "\n",
    "reachable_points=0\n",
    "not_reachable_points=0\n",
    "reachable_iters=[]\n",
    "rhis=RandomPointInHalfSphere(0,0,0,radius=0.2,min_dist=0.1)\n",
    "\n",
    "for _ in range(1000):\n",
    "    reachable,iter=get_reachable_point()\n",
    "    if reachable:\n",
    "        reachable_points+=1\n",
    "        reachable_iters.append(iter)\n",
    "    else:\n",
    "        not_reachable_points+=1\n",
    "print(\"New setting\")\n",
    "print(f\" points was reachable {reachable_points} times; mean iterations {np.mean(reachable_iters).item()}\")\n",
    "print(f\" points was not reachable {not_reachable_points} times\")\n",
    "plt.hist(reachable_iters)\n",
    "plt.show()\n"
   ]
  },
  {
   "cell_type": "code",
   "execution_count": 79,
   "metadata": {},
   "outputs": [
    {
     "data": {
      "text/plain": [
       "1.5"
      ]
     },
     "execution_count": 79,
     "metadata": {},
     "output_type": "execute_result"
    }
   ],
   "source": [
    "x=[1,2]\n",
    "np.mean(x).item()"
   ]
  },
  {
   "cell_type": "code",
   "execution_count": 47,
   "metadata": {},
   "outputs": [
    {
     "name": "stdout",
     "output_type": "stream",
     "text": [
      "[0.13962091 0.13106313 0.05455419]\n"
     ]
    }
   ],
   "source": [
    "point=rhis.samplePoint()\n",
    "print(point)"
   ]
  },
  {
   "cell_type": "code",
   "execution_count": 49,
   "metadata": {},
   "outputs": [
    {
     "name": "stdout",
     "output_type": "stream",
     "text": [
      "[0.13962091 0.13106313 0.05455419]\n"
     ]
    }
   ],
   "source": [
    "print(np.array(point))"
   ]
  },
  {
   "cell_type": "code",
   "execution_count": 24,
   "metadata": {},
   "outputs": [],
   "source": [
    "robot.set([-0.09381270596099853, 1.592485733150663, -1.5993079314418486, -0.035086388197455944, -4.18792568084562e-06,0,0,0,0,0])"
   ]
  },
  {
   "cell_type": "code",
   "execution_count": 25,
   "metadata": {},
   "outputs": [
    {
     "name": "stdout",
     "output_type": "stream",
     "text": [
      "((0.0, 0.0, 0.0), (0.0, 0.0, 0.0, 1.0), (0.0, 0.0, 0.0), (0.0, 0.0, 0.0, 1.0), (0.0, 0.0, 0.0), (0.0, 0.0, 0.0, 1.0))\n",
      "((0.0, 0.038, 0.005), (0.0, 0.0, 0.0, 1.0), (0.0, 0.0, 0.0), (0.0, 0.0, 0.0, 1.0), (0.0, 0.03799999877810478, 0.004999999888241291), (0.0, 0.0, 0.0, 1.0))\n",
      "((0.0, 0.027999999999999997, 0.008), (0.0, 0.0, 0.0, 1.0), (0.0, 0.0, 0.0), (0.0, 0.0, 0.0, 1.0), (0.0, 0.02800000086426735, 0.00800000037997961), (0.0, 0.0, 0.0, 1.0))\n",
      "((5.421010862427522e-20, 0.0375, 0.035), (0.0, 0.0, -0.046889154266491054, 0.9989000987146679), (0.0, 0.0, 0.0), (0.0, 0.0, 0.0, 1.0), (5.421010862427522e-20, 0.03750000149011612, 0.03500000014901161), (0.0, 0.0, -0.046889156103134155, 0.9989001154899597))\n",
      "((-5.421010862427522e-20, 0.0375, 0.059000000000000004), (0.7139472776806206, -0.03351324530289225, -0.03279413327250725, 0.6986277205383451), (0.0, 0.0, 0.0), (0.0, 0.0, 0.0, 1.0), (-5.421010862427522e-20, 0.03750000149011612, 0.05900000035762787), (0.7139472961425781, -0.03351324424147606, -0.03279413282871246, 0.6986277103424072))\n",
      "((-0.001779409445208953, 0.018587995788406957, 0.058587933589104566), (0.7139472776806206, -0.03351324530289225, -0.03279413327250725, 0.6986277205383451), (0.0, 0.0, 0.0), (0.0, 0.0, 0.0, 1.0), (-0.0017794094746932387, 0.018587995320558548, 0.0585879348218441), (0.7139472961425781, -0.03351324424147606, -0.03279413282871246, 0.6986277103424072))\n",
      "((-0.005057268949541235, -0.016249906706632854, 0.05782886388482349), (-0.0034073406655085728, 0.00015994324388304487, -0.046888881475095255, 0.9988942873206165), (0.0, 0.0, 0.0), (0.0, 0.0, 0.0, 1.0), (-0.005057268775999546, -0.01624990627169609, 0.057828862220048904), (-0.003407340729609132, 0.00015994325804058462, -0.04688888415694237, 0.9988942742347717))\n",
      "((-0.005040653244709764, -0.016073310881204672, 0.0838282588361064), (-0.0034073406655085728, 0.00015994324388304487, -0.046888881475095255, 0.9988942873206165), (0.0, 0.0, 0.0), (0.0, 0.0, 0.0, 1.0), (-0.005040653049945831, -0.016073310747742653, 0.08382825553417206), (-0.003407340729609132, 0.00015994325804058462, -0.04688888415694237, 0.9988942742347717))\n",
      "((-0.005039375113568881, -0.016059726586940964, 0.08582821229389738), (-0.0034096221225881733, 0.00010014605958079731, -0.06440456382906871, 0.9979180410262836), (0.0, 0.0, 0.0), (0.0, 0.0, 0.0, 1.0), (-0.005039375275373459, -0.01605972647666931, 0.08582821488380432), (-0.0034096217714250088, 0.00010014605504693463, -0.06440455466508865, 0.9979180693626404))\n",
      "((-0.0033587656275721207, -0.0030659932874539837, 0.10073922992172482), (-0.0034096221225881733, 0.00010014605958079731, -0.06440456382906871, 0.9979180410262836), (0.0, 0.0, 0.0), (0.0, 0.0, 0.0, 1.0), (-0.0033587657380849123, -0.0030659933108836412, 0.10073923319578171), (-0.0034096217714250088, 0.00010014605504693463, -0.06440455466508865, 0.9979180693626404))\n",
      "((0.0011401438020744161, 0.03164283657699382, 0.10050060179124985), (-0.0034096221225881733, 0.00010014605958079731, -0.06440456382906871, 0.9979180410262836), (0.0, 0.0, 0.0), (0.0, 0.0, 0.0, 1.0), (0.001140143838711083, 0.03164283558726311, 0.10050059854984283), (-0.0034096217714250088, 0.00010014605504693463, -0.06440455466508865, 0.9979180693626404))\n",
      "((0.003582408921025393, 0.050484772789122626, 0.10037106080613487), (-0.0034096221225881733, 0.00010014605958079731, -0.06440456382906871, 0.9979180410262836), (0.0, 0.0, 0.0), (0.0, 0.0, 0.0, 1.0), (0.0035824088845402002, 0.05048477277159691, 0.10037106275558472), (-0.0034096217714250088, 0.00010014605504693463, -0.06440455466508865, 0.9979180693626404))\n",
      "((0.006153214309394843, 0.07031838985452137, 0.10023470187443488), (-0.0034096221225881733, 0.00010014605958079731, -0.06440456382906871, 0.9979180410262836), (0.0, 0.0, 0.0), (0.0, 0.0, 0.0, 1.0), (0.006153214257210493, 0.07031839340925217, 0.10023470222949982), (-0.0034096217714250088, 0.00010014605504693463, -0.06440455466508865, 0.9979180693626404))\n",
      "((0.010009422391949017, 0.10006881545261948, 0.10003016347688491), (-0.0034096221225881733, 0.00010014605958079731, -0.06440456382906871, 0.9979180410262836), (0.0, 0.0, 0.0), (0.0, 0.0, 0.0, 1.0), (0.010009421966969967, 0.10006881505250931, 0.10003016144037247), (-0.0034096217714250088, 0.00010014605504693463, -0.06440455466508865, 0.9979180693626404))\n"
     ]
    }
   ],
   "source": [
    "for i in range(14):\n",
    "    print(p.getLinkState(robot.id,i))"
   ]
  },
  {
   "cell_type": "code",
   "execution_count": 28,
   "metadata": {},
   "outputs": [
    {
     "data": {
      "text/plain": [
       "np.float64(0.08961769652312031)"
      ]
     },
     "execution_count": 28,
     "metadata": {},
     "output_type": "execute_result"
    }
   ],
   "source": [
    "np.linalg.norm(np.array([0.010009422391949017, 0.10006881545261948, 0.10003016347688491])-np.array([0.1, 0.1, 0.1]))"
   ]
  },
  {
   "cell_type": "code",
   "execution_count": 29,
   "metadata": {},
   "outputs": [
    {
     "data": {
      "text/plain": [
       "np.float64(0.08999060897467304)"
      ]
     },
     "execution_count": 29,
     "metadata": {},
     "output_type": "execute_result"
    }
   ],
   "source": [
    "np.linalg.norm(np.array([0.010009422391949017, 0.10006881545261948, 0.10003016347688491])-np.array([0.1, 0.1, 0.1]))"
   ]
  }
 ],
 "metadata": {
  "kernelspec": {
   "display_name": "env",
   "language": "python",
   "name": "python3"
  },
  "language_info": {
   "codemirror_mode": {
    "name": "ipython",
    "version": 3
   },
   "file_extension": ".py",
   "mimetype": "text/x-python",
   "name": "python",
   "nbconvert_exporter": "python",
   "pygments_lexer": "ipython3",
   "version": "3.12.4"
  }
 },
 "nbformat": 4,
 "nbformat_minor": 2
}
