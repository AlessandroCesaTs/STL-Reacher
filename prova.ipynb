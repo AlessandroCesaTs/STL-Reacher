{
 "cells": [
  {
   "cell_type": "code",
   "execution_count": 1,
   "metadata": {},
   "outputs": [],
   "source": [
    "import torch\n",
    "from src.classes.stl_evaluator import STLEvaluator"
   ]
  },
  {
   "cell_type": "code",
   "execution_count": 3,
   "metadata": {},
   "outputs": [
    {
     "name": "stderr",
     "output_type": "stream",
     "text": [
      "/tmp/ipykernel_84254/854488035.py:1: FutureWarning: You are using `torch.load` with `weights_only=False` (the current default value), which uses the default pickle module implicitly. It is possible to construct malicious pickle data which will execute arbitrary code during unpickling (See https://github.com/pytorch/pytorch/blob/main/SECURITY.md#untrusted-models for more details). In a future release, the default value for `weights_only` will be flipped to `True`. This limits the functions that could be executed during unpickling. Arbitrary objects will no longer be allowed to be loaded via this mode unless they are explicitly allowlisted by the user via `torch.serialization.add_safe_globals`. We recommend you start setting `weights_only=True` for any use case where you don't have full control of the loaded file. Please open an issue on GitHub for any issues related to this experimental feature.\n",
      "  signals=torch.load('/home/alessandro/Universita/tesi/STL-Reacher/outputs/signal.pt')\n"
     ]
    }
   ],
   "source": [
    "signals=torch.load('/home/alessandro/Universita/tesi/STL-Reacher/outputs/signal.pt')"
   ]
  },
  {
   "cell_type": "code",
   "execution_count": 4,
   "metadata": {},
   "outputs": [],
   "source": [
    "reach_formula=[\"F\",0]\n",
    "stay_formula=[\"F\",[\"G\",0]]\n",
    "collision_formula=[\"G\",1]\n",
    "requirement=[\"and\",stay_formula,collision_formula]\n",
    "\n",
    "\n",
    "evaluator=STLEvaluator(signals,requirement)\n",
    "reach_evaluator=STLEvaluator(signals,reach_formula)\n",
    "stay_evaluator=STLEvaluator(signals,stay_formula)\n",
    "collision_evaluator=STLEvaluator(signals,collision_formula)\n",
    "\n",
    "evaluating_function=evaluator.apply_formula()\n",
    "reach_evaluating_function=reach_evaluator.apply_formula()\n",
    "stay_evaluating_function=stay_evaluator.apply_formula()\n",
    "collision_evaluating_function=collision_evaluator.apply_formula()"
   ]
  },
  {
   "cell_type": "code",
   "execution_count": 5,
   "metadata": {},
   "outputs": [
    {
     "data": {
      "text/plain": [
       "array([-0.00614122,  0.07251637])"
      ]
     },
     "execution_count": 5,
     "metadata": {},
     "output_type": "execute_result"
    }
   ],
   "source": [
    "signals"
   ]
  }
 ],
 "metadata": {
  "kernelspec": {
   "display_name": "env",
   "language": "python",
   "name": "python3"
  },
  "language_info": {
   "codemirror_mode": {
    "name": "ipython",
    "version": 3
   },
   "file_extension": ".py",
   "mimetype": "text/x-python",
   "name": "python",
   "nbconvert_exporter": "python",
   "pygments_lexer": "ipython3",
   "version": "3.12.4"
  }
 },
 "nbformat": 4,
 "nbformat_minor": 2
}
