{
 "cells": [
  {
   "cell_type": "code",
   "execution_count": 1,
   "metadata": {},
   "outputs": [],
   "source": [
    "from src.classes.stl_evaluator import STLEvaluator\n",
    "import numpy as np\n",
    "import matplotlib.pyplot as plt\n",
    "import pickle"
   ]
  },
  {
   "cell_type": "code",
   "execution_count": 2,
   "metadata": {},
   "outputs": [],
   "source": [
    "x=[[-3,-2,1,2]]\n",
    "y=[[-3,-2,1,2,-2]]"
   ]
  },
  {
   "cell_type": "code",
   "execution_count": 3,
   "metadata": {},
   "outputs": [],
   "source": [
    "formula=[\"F\",[\"G\",0]]"
   ]
  },
  {
   "cell_type": "code",
   "execution_count": 4,
   "metadata": {},
   "outputs": [],
   "source": [
    "evaluator_x=STLEvaluator(x,formula)\n",
    "evaluator_y=STLEvaluator(y,formula)"
   ]
  },
  {
   "cell_type": "code",
   "execution_count": 5,
   "metadata": {},
   "outputs": [],
   "source": [
    "function_x=evaluator_x.apply_formula()\n",
    "function_y=evaluator_y.apply_formula()"
   ]
  },
  {
   "cell_type": "code",
   "execution_count": 6,
   "metadata": {},
   "outputs": [
    {
     "name": "stdout",
     "output_type": "stream",
     "text": [
      "2\n",
      "-2\n"
     ]
    }
   ],
   "source": [
    "print(function_x(0))\n",
    "print(function_y(0))"
   ]
  },
  {
   "cell_type": "code",
   "execution_count": 7,
   "metadata": {},
   "outputs": [
    {
     "name": "stdout",
     "output_type": "stream",
     "text": [
      "signals[[]]\n",
      "signals[[-3]]\n",
      "robustness -3\n",
      "signals[[-3, -2]]\n",
      "robustness -2\n",
      "signals[[-3, -2, 1]]\n",
      "robustness 1\n",
      "signals[[-3, -2, 1, 2]]\n",
      "robustness 2\n",
      "signals[[-3, -2, 1, 2, -2]]\n",
      "robustness -2\n"
     ]
    }
   ],
   "source": [
    "y=[[-3,-2,1,2,-2]]\n",
    "k=[[]]\n",
    "formula=[\"F\",[\"G\",0]]\n",
    "progressive_evaluator_y=STLEvaluator(k,formula)\n",
    "progressive_function_y=progressive_evaluator_y.apply_formula()\n",
    "print(f\"signals{progressive_evaluator_y.signals}\")\n",
    "for i in range(len(y[0])):\n",
    "    progressive_evaluator_y.append_signals([y[0][i]])\n",
    "    print(f\"signals{progressive_evaluator_y.signals}\")\n",
    "    print(f\"robustness {progressive_function_y(0)}\")\n"
   ]
  },
  {
   "cell_type": "code",
   "execution_count": 16,
   "metadata": {},
   "outputs": [],
   "source": [
    "from src.classes.stl_evaluator import STLEvaluator\n",
    "import time\n",
    "import numpy as np"
   ]
  },
  {
   "cell_type": "code",
   "execution_count": 17,
   "metadata": {},
   "outputs": [],
   "source": [
    "y=[[-3,-2,1,2]]\n",
    "formula=[\"F\",[\"G\",0]]\n",
    "progressive_evaluator_y=STLEvaluator(y,formula)\n",
    "progressive_function_y=progressive_evaluator_y.apply_formula()\n",
    "#print(progressive_function_y(0))\n"
   ]
  },
  {
   "cell_type": "code",
   "execution_count": 18,
   "metadata": {},
   "outputs": [
    {
     "name": "stdout",
     "output_type": "stream",
     "text": [
      "2\n",
      "0.006899356842041016\n",
      "{('G', '0'): {0: np.int64(-3), 1: np.int64(-2), 2: np.int64(1), 3: np.int64(2)}}\n"
     ]
    }
   ],
   "source": [
    "start=time.time()\n",
    "print(progressive_function_y(0))\n",
    "end=time.time()\n",
    "print(end-start)\n",
    "print(progressive_evaluator_y.prev_results)"
   ]
  },
  {
   "cell_type": "code",
   "execution_count": 19,
   "metadata": {},
   "outputs": [
    {
     "name": "stdout",
     "output_type": "stream",
     "text": [
      "-2\n",
      "0.002482891082763672\n",
      "{('G', '0'): {0: np.int64(-3), 1: np.int64(-2), 2: -2, 3: -2, 4: np.int64(-2)}}\n"
     ]
    }
   ],
   "source": [
    "progressive_evaluator_y.append_signals([-2])\n",
    "start=time.time()\n",
    "print(progressive_function_y(0))\n",
    "end=time.time()\n",
    "print(end-start)\n",
    "print(progressive_evaluator_y.prev_results)"
   ]
  }
 ],
 "metadata": {
  "kernelspec": {
   "display_name": "env",
   "language": "python",
   "name": "python3"
  },
  "language_info": {
   "codemirror_mode": {
    "name": "ipython",
    "version": 3
   },
   "file_extension": ".py",
   "mimetype": "text/x-python",
   "name": "python",
   "nbconvert_exporter": "python",
   "pygments_lexer": "ipython3",
   "version": "3.12.4"
  }
 },
 "nbformat": 4,
 "nbformat_minor": 2
}
