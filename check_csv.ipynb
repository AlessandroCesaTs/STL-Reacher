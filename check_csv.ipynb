{
 "cells": [
  {
   "cell_type": "code",
   "execution_count": 1,
   "metadata": {},
   "outputs": [],
   "source": [
    "import pandas as pd"
   ]
  },
  {
   "cell_type": "code",
   "execution_count": 7,
   "metadata": {},
   "outputs": [
    {
     "name": "stdout",
     "output_type": "stream",
     "text": [
      "    Environment  Episode  Step  Robustness\n",
      "11           11        0     0   -0.059812\n",
      "23           11        0     1   -0.054295\n",
      "35           11        0     2   -0.047713\n",
      "47           11        0     3   -0.047713\n",
      "59           11        0     4   -0.046582\n",
      "71           11        0     5   -0.030976\n",
      "83           11        0     6   -0.010660\n"
     ]
    }
   ],
   "source": [
    "df_0=pd.read_csv('/home/alessandro/Universita/tesi/STL-Reacher/output/train/logs/robustness_0.csv')\n",
    "df_0=df_0[ (df_0['Episode']==0) & (df_0['Environment']==11)]\n",
    "print(df_0)"
   ]
  },
  {
   "cell_type": "code",
   "execution_count": 9,
   "metadata": {},
   "outputs": [
    {
     "name": "stdout",
     "output_type": "stream",
     "text": [
      "     Environment  Episode  Step  Robustness\n",
      "0             11        0     7    0.000899\n",
      "1             11        0     8   -0.151368\n",
      "2             11        0     9   -0.151368\n",
      "3             11        0    10   -0.151368\n",
      "4             11        0    11   -0.151368\n",
      "..           ...      ...   ...         ...\n",
      "786           11        0   174   -0.071722\n",
      "795           11        0   175   -0.061831\n",
      "804           11        0   176   -0.039031\n",
      "813           11        0   177   -0.010227\n",
      "822           11        0   178    0.004598\n",
      "\n",
      "[172 rows x 4 columns]\n"
     ]
    }
   ],
   "source": [
    "df_1=pd.read_csv('/home/alessandro/Universita/tesi/STL-Reacher/output/train/logs/robustness_1.csv')\n",
    "df_1=df_1[ (df_1['Episode']==0) & (df_1['Environment']==11)]\n",
    "print(df_1)"
   ]
  }
 ],
 "metadata": {
  "kernelspec": {
   "display_name": "env",
   "language": "python",
   "name": "python3"
  },
  "language_info": {
   "codemirror_mode": {
    "name": "ipython",
    "version": 3
   },
   "file_extension": ".py",
   "mimetype": "text/x-python",
   "name": "python",
   "nbconvert_exporter": "python",
   "pygments_lexer": "ipython3",
   "version": "3.12.4"
  }
 },
 "nbformat": 4,
 "nbformat_minor": 2
}
