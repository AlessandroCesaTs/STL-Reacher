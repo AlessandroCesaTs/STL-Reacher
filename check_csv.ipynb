{
 "cells": [
  {
   "cell_type": "code",
   "execution_count": 1,
   "metadata": {},
   "outputs": [],
   "source": [
    "import pandas as pd"
   ]
  },
  {
   "cell_type": "code",
   "execution_count": 3,
   "metadata": {},
   "outputs": [
    {
     "name": "stdout",
     "output_type": "stream",
     "text": [
      "     Environment  Episode  Step  Robustness\n",
      "1              1        0     0   -0.059812\n",
      "13             1        0     1   -0.059812\n",
      "25             1        0     2   -0.059812\n",
      "37             1        0     3   -0.059812\n",
      "49             1        0     4   -0.059812\n",
      "61             1        0     5   -0.059812\n",
      "73             1        0     6   -0.059812\n",
      "85             1        0     7   -0.059812\n",
      "97             1        0     8   -0.059812\n",
      "109            1        0     9   -0.059812\n",
      "121            1        0    10   -0.059812\n",
      "133            1        0    11   -0.059812\n",
      "145            1        0    12   -0.059812\n",
      "157            1        0    13   -0.059812\n",
      "169            1        0    14   -0.059812\n",
      "181            1        0    15   -0.059812\n",
      "193            1        0    16   -0.059812\n",
      "205            1        0    17   -0.059812\n",
      "217            1        0    18   -0.059812\n",
      "229            1        0    19   -0.059812\n",
      "241            1        0    20   -0.059812\n",
      "253            1        0    21   -0.059176\n",
      "265            1        0    22   -0.058619\n",
      "277            1        0    23   -0.058619\n",
      "289            1        0    24   -0.058619\n",
      "301            1        0    25   -0.058014\n",
      "313            1        0    26   -0.057284\n",
      "325            1        0    27   -0.045121\n",
      "337            1        0    28   -0.038305\n",
      "349            1        0    29   -0.029802\n",
      "361            1        0    30   -0.029802\n",
      "373            1        0    31   -0.029802\n",
      "385            1        0    32   -0.029802\n",
      "397            1        0    33   -0.029802\n",
      "409            1        0    34   -0.029802\n",
      "421            1        0    35   -0.029802\n",
      "433            1        0    36   -0.029802\n",
      "445            1        0    37   -0.029802\n",
      "457            1        0    38   -0.029802\n",
      "469            1        0    39   -0.029802\n",
      "481            1        0    40   -0.029802\n",
      "493            1        0    41   -0.029802\n",
      "505            1        0    42   -0.029802\n",
      "517            1        0    43   -0.029802\n",
      "529            1        0    44   -0.029802\n",
      "541            1        0    45   -0.029802\n",
      "553            1        0    46   -0.029802\n",
      "565            1        0    47   -0.029802\n",
      "577            1        0    48   -0.029802\n",
      "589            1        0    49   -0.029802\n",
      "601            1        0    50   -0.027511\n",
      "613            1        0    51   -0.010256\n",
      "625            1        0    52    0.000434\n"
     ]
    }
   ],
   "source": [
    "df=pd.read_csv('/u/dssc/acesa000/STL-Reacher/output/train/logs/robustness_0.csv')\n",
    "df=df[ (df['Episode']==0) & (df['Environment']==1)]\n",
    "print(df)"
   ]
  },
  {
   "cell_type": "code",
   "execution_count": 9,
   "metadata": {},
   "outputs": [
    {
     "name": "stdout",
     "output_type": "stream",
     "text": [
      "     Environment  Episode  Step  Robustness\n",
      "0             11        0     7    0.000899\n",
      "1             11        0     8   -0.151368\n",
      "2             11        0     9   -0.151368\n",
      "3             11        0    10   -0.151368\n",
      "4             11        0    11   -0.151368\n",
      "..           ...      ...   ...         ...\n",
      "786           11        0   174   -0.071722\n",
      "795           11        0   175   -0.061831\n",
      "804           11        0   176   -0.039031\n",
      "813           11        0   177   -0.010227\n",
      "822           11        0   178    0.004598\n",
      "\n",
      "[172 rows x 4 columns]\n"
     ]
    }
   ],
   "source": [
    "df_1=pd.read_csv('/home/alessandro/Universita/tesi/STL-Reacher/output/train/logs/robustness_1.csv')\n",
    "df_1=df_1[ (df_1['Episode']==0) & (df_1['Environment']==11)]\n",
    "print(df_1)"
   ]
  }
 ],
 "metadata": {
  "kernelspec": {
   "display_name": "env",
   "language": "python",
   "name": "python3"
  },
  "language_info": {
   "codemirror_mode": {
    "name": "ipython",
    "version": 3
   },
   "file_extension": ".py",
   "mimetype": "text/x-python",
   "name": "python",
   "nbconvert_exporter": "python",
   "pygments_lexer": "ipython3",
   "version": "3.12.4"
  }
 },
 "nbformat": 4,
 "nbformat_minor": 2
}
