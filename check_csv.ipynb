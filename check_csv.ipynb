{
 "cells": [
  {
   "cell_type": "code",
   "execution_count": 1,
   "metadata": {},
   "outputs": [],
   "source": [
    "import pandas as pd\n",
    "import matplotlib.pyplot as plt"
   ]
  },
  {
   "cell_type": "code",
   "execution_count": 10,
   "metadata": {},
   "outputs": [],
   "source": [
    "dataframe=pd.read_csv('/u/dssc/acesa000/STL-Reacher/outputs/output/train/logs/safety.csv')\n"
   ]
  },
  {
   "cell_type": "code",
   "execution_count": 11,
   "metadata": {},
   "outputs": [],
   "source": [
    "dataframe['Total_Episode']=dataframe['Episode']*12+dataframe['Environment']\n",
    "\n",
    "dataframe.drop(columns=['Episode','Environment'],inplace=True)"
   ]
  },
  {
   "cell_type": "code",
   "execution_count": 5,
   "metadata": {},
   "outputs": [
    {
     "data": {
      "text/plain": [
       "<pandas.core.groupby.generic.DataFrameGroupBy object at 0x7f0b435972c0>"
      ]
     },
     "execution_count": 5,
     "metadata": {},
     "output_type": "execute_result"
    }
   ],
   "source": [
    "dataframe.groupby('Total_Episode')['Robustness'].min()\n"
   ]
  },
  {
   "cell_type": "code",
   "execution_count": 12,
   "metadata": {},
   "outputs": [
    {
     "name": "stdout",
     "output_type": "stream",
     "text": [
      "         Step  Robustness  Total_Episode\n",
      "0           0    0.145688              0\n",
      "1           0    0.145688              1\n",
      "2           0    0.145688              2\n",
      "3           0    0.145688              3\n",
      "4           0    0.145688              4\n",
      "...       ...         ...            ...\n",
      "2457595   874    0.072484          35791\n",
      "2457596   251    0.072484          35516\n",
      "2457597   690    0.072484          35433\n",
      "2457598   559    0.072484          36310\n",
      "2457599   375    0.072573          34115\n",
      "\n",
      "[2457600 rows x 3 columns]\n"
     ]
    }
   ],
   "source": [
    "print(dataframe)"
   ]
  }
 ],
 "metadata": {
  "kernelspec": {
   "display_name": "env",
   "language": "python",
   "name": "python3"
  },
  "language_info": {
   "codemirror_mode": {
    "name": "ipython",
    "version": 3
   },
   "file_extension": ".py",
   "mimetype": "text/x-python",
   "name": "python",
   "nbconvert_exporter": "python",
   "pygments_lexer": "ipython3",
   "version": "3.12.4"
  }
 },
 "nbformat": 4,
 "nbformat_minor": 2
}
